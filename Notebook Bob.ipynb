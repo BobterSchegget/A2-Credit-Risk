{
 "cells": [
  {
   "cell_type": "markdown",
   "metadata": {},
   "source": [
    "### Question 3"
   ]
  },
  {
   "cell_type": "markdown",
   "metadata": {},
   "source": [
    "#### Imports"
   ]
  },
  {
   "cell_type": "code",
   "execution_count": 1,
   "metadata": {},
   "outputs": [],
   "source": [
    "from numpy.ma.core import sqrt, ones, zeros, mean, std, sort, floor, round, prod\n",
    "from numpy import fill_diagonal\n",
    "from scipy import stats\n",
    "import matplotlib.pyplot as plt"
   ]
  },
  {
   "cell_type": "markdown",
   "metadata": {},
   "source": [
    "#### One-factor model template with infections"
   ]
  },
  {
   "cell_type": "code",
   "execution_count": 7,
   "metadata": {},
   "outputs": [],
   "source": [
    "# One factor model\n",
    "def simOneFactorInfectious(n, PD, EAD, LGD, rho, q):\n",
    "    normDist = stats.norm(0, 1)\n",
    "    z = normDist.rvs(1)  # systematic factor\n",
    "    y = normDist.rvs(n)  # idiosyncratic factor\n",
    "    rtilde = sqrt(rho)*z + sqrt(1-rho)*y # Asset values for obligors\n",
    "    c = normDist.ppf(PD) # Critical thresholds for obligors\n",
    "    default_1 = (rtilde < c)\n",
    "\n",
    "    # Infectious defaults\n",
    "    bernoulliDist = stats.bernoulli(q)\n",
    "    Q = bernoulliDist.rvs((n, n)) # Generate infection matrix\n",
    "    for i in range(n): # Ensures no self-infections\n",
    "        Q[i, i] = 0\n",
    "    default_2 = 1 - prod(1 - default_1 * Q, axis = 1) # Infection in step 2\n",
    "\n",
    "    # Combining both steps\n",
    "    default = default_1 + default_2 - default_1 * default_2\n",
    "\n",
    "    losses = default * EAD * LGD\n",
    "    return sum(losses), sum(default)"
   ]
  },
  {
   "cell_type": "markdown",
   "metadata": {},
   "source": [
    "#### Simulation"
   ]
  },
  {
   "cell_type": "code",
   "execution_count": 8,
   "metadata": {},
   "outputs": [],
   "source": [
    "# The bank portfolios, numbers are obtained from assignment description\n",
    "portfolios = {\n",
    "    \"ANB AMOR\": {\n",
    "        \"n\": 8000,\n",
    "        \"EAD\": ones(8000),\n",
    "        \"LGD\": 0.25 * ones(8000),\n",
    "        \"PD\": 0.01 * ones(8000),\n",
    "        \"rho\": 0.25,\n",
    "    },\n",
    "    \"NSN\": {\n",
    "        \"n\": 1017,\n",
    "        \"EAD\": ones(1000).tolist() + [10]*10 + [50]*4 + [100]*2 + [500],\n",
    "        \"LGD\": 0.5 * ones(1017),\n",
    "        \"PD\": 0.02 * ones(1017),\n",
    "        \"rho\": 0.25,\n",
    "    },\n",
    "    \"ROBA\": {\n",
    "        \"n\": 1017,\n",
    "        \"EAD\": ones(1000).tolist() + [10]*10 + [50]*4 + [100]*2 + [500],\n",
    "        \"LGD\": 0.5 * ones(1017),\n",
    "        \"PD\": ([0.0275]*1000 + [0.02]*10 + [0.0175]*4 + [0.015]*2 + [0.008]),\n",
    "        \"rho\": 0.25,\n",
    "    },\n",
    "}"
   ]
  },
  {
   "cell_type": "code",
   "execution_count": 14,
   "metadata": {},
   "outputs": [],
   "source": [
    "# Parameters\n",
    "runs = 1000 # Number of simulation runs.\n",
    "alpha = 0.99 # alpha-value\n",
    "q = 0.001 # Infectious default parameter"
   ]
  },
  {
   "cell_type": "code",
   "execution_count": null,
   "metadata": {},
   "outputs": [],
   "source": [
    "# Subplots\n",
    "fig1, axes1 = plt.subplots(1, 3, figsize=(16, 5))\n",
    "fig2, axes2 = plt.subplots(1, 3, figsize=(16, 5))\n",
    "\n",
    "# The simulation for each portfolio\n",
    "for idx, p in enumerate(portfolios):\n",
    "    n = portfolios[p][\"n\"]\n",
    "    EAD = portfolios[p][\"EAD\"]\n",
    "    LGD = portfolios[p][\"LGD\"]\n",
    "    PD = portfolios[p][\"PD\"]\n",
    "    rho = portfolios[p][\"rho\"]\n",
    "    \n",
    "    losses = zeros(runs)\n",
    "    defaults = zeros(runs)\n",
    "    for i in range(runs):\n",
    "        loss, default = simOneFactorInfectious(n, PD, EAD, LGD, rho, q)\n",
    "        losses[i] = loss\n",
    "        defaults[i] = default\n",
    "\n",
    "    # Plot for total loss\n",
    "    axes1[idx].hist(losses, bins=int(round(sqrt(runs))), color='blue', alpha=0.7, edgecolor='black')\n",
    "    #axes1[idx].set_yscale('log')\n",
    "    axes1[idx].set_title(f\"Total loss at {p} Bank\")\n",
    "    axes1[idx].set_xlabel(\"Total loss\")\n",
    "    axes1[idx].set_ylabel(\"Frequency\")\n",
    "\n",
    "    # Plot for number of defaults\n",
    "    axes2[idx].hist(defaults, bins=int(round(sqrt(runs))), color='blue', alpha=0.7, edgecolor='black')\n",
    "    #axes2[idx].set_yscale('log')\n",
    "    axes2[idx].set_title(f\"Number of defaults at {p} Bank\")\n",
    "    axes2[idx].set_xlabel(\"Number of defaults\")\n",
    "    axes2[idx].set_ylabel(\"Frequency\")\n",
    "\n",
    "    # Calculate metrics\n",
    "    EL = mean(losses)\n",
    "    UL = std(losses)\n",
    "  \n",
    "    sortLosses = sort(losses)\n",
    "    idx = int(floor(alpha * runs))\n",
    "    VaR = sortLosses[idx] # Value-at-risk\n",
    "\n",
    "    EC = VaR - EL # Economical capital\n",
    "    TCE = mean(losses[losses > VaR]) # Tail conditional expectation\n",
    "\n",
    "    # Confidence intervals (95%)\n",
    "    z = 1.96\n",
    "    EL_CI = [round(EL - z * (UL / sqrt(runs)), 2), round(EL + z * (UL / sqrt(runs)), 2)]\n",
    "    UL_CI = [round(UL - z * (UL / sqrt(runs)), 2), round(UL + z * (UL / sqrt(runs)), 2)]\n",
    "    VaR_CI = [round(VaR - z * (UL / sqrt(runs)), 2), round(VaR + z * (UL / sqrt(runs)), 2)]\n",
    "    EC_CI = [round(EC - z * (UL / sqrt(runs)), 2), round(EC + z * (UL / sqrt(runs)), 2)]\n",
    "    TCE_CI = [round(TCE - z * (UL / sqrt(runs)), 2), round(TCE + z * (UL / sqrt(runs)), 2)]\n",
    "\n",
    "    # Print results with confidence intervals\n",
    "    print(f\"Portfolio of {p} bank\")\n",
    "    print(f\"Expected loss (EL): {round(EL, 2)} ({EL_CI[0]}, {EL_CI[1]})\")\n",
    "    print(f\"Unexpected loss (UL): {round(UL, 2)} ({UL_CI[0]}, {UL_CI[1]})\")\n",
    "    print(f\"Value-at-Risk (VaR): {round(VaR, 2)} ({VaR_CI[0]}, {VaR_CI[1]})\")\n",
    "    print(f\"Economic capital (EC): {round(EC, 2)} ({EC_CI[0]}, {EC_CI[1]})\")\n",
    "    print(f\"Tail conditional expectation (TCE): {round(TCE, 2)} ({TCE_CI[0]}, {TCE_CI[1]})\")\n",
    "    print(\"\\n\")\n",
    "\n",
    "plt.tight_layout()\n",
    "plt.show()"
   ]
  }
 ],
 "metadata": {
  "kernelspec": {
   "display_name": "base",
   "language": "python",
   "name": "python3"
  },
  "language_info": {
   "codemirror_mode": {
    "name": "ipython",
    "version": 3
   },
   "file_extension": ".py",
   "mimetype": "text/x-python",
   "name": "python",
   "nbconvert_exporter": "python",
   "pygments_lexer": "ipython3",
   "version": "3.11.5"
  }
 },
 "nbformat": 4,
 "nbformat_minor": 2
}
